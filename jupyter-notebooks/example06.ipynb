{
 "cells": [
  {
   "cell_type": "markdown",
   "metadata": {},
   "source": [
    "# Циклы в Python"
   ]
  },
  {
   "cell_type": "markdown",
   "metadata": {},
   "source": [
    "## 1. Введение в циклы\n",
    "\n",
    "Цикл - это конструкция, которая позволяет выполнять определенный блок кода несколько раз. \n",
    "\n",
    "В Python есть два основных типа циклов:\n",
    "\n",
    "1. цикл `for` - для выполнения операций над итерируемыми объектами (другими словами: для перебора элементов последовательности)\n",
    "2. цикл `while` - для выполнения кода, пока условие истинно\n",
    "\n",
    "### Итерация и итерируемые объекты\n",
    "\n",
    "__Итерация__ означает выполнение действия для каждого элемента в наборе данных (итерация по итерируемому объекту). \n",
    "\n",
    "__Итерируемый объект__ - это объект, который можно \"перебрать\".\n",
    "\n",
    "__Основные итерируемые объекты в Python__\n",
    "\n",
    "- строки (str)\n",
    "- списки (list)\n",
    "- кортежи (tuple)\n",
    "- словари (dict) (по ключам или значениям)\n",
    "- множества (set)\n",
    "- range()"
   ]
  },
  {
   "cell_type": "markdown",
   "metadata": {},
   "source": [
    "## 2. Цикл for\n",
    "\n",
    "__Синтаксис__\n",
    "```python\n",
    "for переменная in итерируемый_объект:\n",
    "    # тело цикла (блок кода)\n",
    "```"
   ]
  },
  {
   "cell_type": "markdown",
   "metadata": {},
   "source": [
    "### Примеры"
   ]
  },
  {
   "cell_type": "code",
   "execution_count": null,
   "metadata": {},
   "outputs": [],
   "source": [
    "# Перебор элементов строки\n",
    "for char in \"Python\":\n",
    "    print(char)  # Выведет каждую букву на новой строке"
   ]
  },
  {
   "cell_type": "code",
   "execution_count": null,
   "metadata": {},
   "outputs": [],
   "source": [
    "# Перебор элементов списка\n",
    "fruits = ['яблоко', 'банан', 'апельсин']\n",
    "for fruit in fruits:\n",
    "    print(fruit)"
   ]
  },
  {
   "cell_type": "code",
   "execution_count": null,
   "metadata": {},
   "outputs": [],
   "source": [
    "# range(stop) - от 0 до stop-1\n",
    "for i in range(3):\n",
    "    print(i)  # Вывод: 0, 1, 2"
   ]
  },
  {
   "cell_type": "code",
   "execution_count": null,
   "metadata": {},
   "outputs": [],
   "source": [
    "# range(start, stop) - от start до stop-1\n",
    "for i in range(2, 5):\n",
    "    print(i)  # Вывод: 2, 3, 4"
   ]
  },
  {
   "cell_type": "code",
   "execution_count": null,
   "metadata": {},
   "outputs": [],
   "source": [
    "# Цикл с шагом 2\n",
    "# range(start, stop, step) - от start до stop-1 с шагом step\n",
    "for i in range(0, 10, 2):\n",
    "    print(i)  # Вывод: 0, 2, 4, 6, 8"
   ]
  },
  {
   "cell_type": "markdown",
   "metadata": {},
   "source": [
    "## 3. Цикл while\n",
    "\n",
    "Цикл `while` повторяет блок кода, пока условие истинно.\n",
    "\n",
    "__Синтаксис__\n",
    "```python\n",
    "while условие:\n",
    "    # тело цикла (блок кода)\n",
    "```"
   ]
  },
  {
   "cell_type": "markdown",
   "metadata": {},
   "source": [
    "### Примеры"
   ]
  },
  {
   "cell_type": "code",
   "execution_count": null,
   "metadata": {},
   "outputs": [],
   "source": [
    "# Простой счетчик\n",
    "count = 0\n",
    "while count < 3:\n",
    "    print(count)\n",
    "    count += 1"
   ]
  },
  {
   "cell_type": "code",
   "execution_count": null,
   "metadata": {},
   "outputs": [],
   "source": [
    "# Ввод пароля\n",
    "password = \"\"\n",
    "while password != \"secret\":\n",
    "    password = input(\"Введите пароль: \")"
   ]
  },
  {
   "cell_type": "markdown",
   "metadata": {},
   "source": [
    "## 4. Управление циклами\n",
    "\n",
    "1. Оператор `break` — завершает выполнение цикла досрочно\n",
    "2. Оператор `continue` — пропускает текущую итерацию и переходит к следующей\n",
    "3. Оператор `else` - выполняется, если цикл завершён полностью, то есть все элементы итерируемого объекта (списка, строки и т.д.) были пройдены.\n",
    "Если цикл прерван оператором break, блок else не выполняется.\n",
    "\n",
    "Применение оператора `else` полезно, когда нужно выполнить определённые действия только после того, как все итерации цикла успешно завершены, или когда определённое условие в цикле так и не было выполнено."
   ]
  },
  {
   "cell_type": "markdown",
   "metadata": {},
   "source": [
    "### Пример с break"
   ]
  },
  {
   "cell_type": "code",
   "execution_count": null,
   "metadata": {},
   "outputs": [],
   "source": [
    "for i in range(5):\n",
    "    if i == 3:\n",
    "        break\n",
    "    print(i)  # Выведет 0, 1, 2"
   ]
  },
  {
   "cell_type": "markdown",
   "metadata": {},
   "source": [
    "### Пример с continue "
   ]
  },
  {
   "cell_type": "code",
   "execution_count": null,
   "metadata": {},
   "outputs": [],
   "source": [
    "for i in range(5):\n",
    "    if i == 2:\n",
    "        continue\n",
    "    print(i)  # Выведет 0, 1, 3, 4"
   ]
  },
  {
   "cell_type": "markdown",
   "metadata": {},
   "source": [
    "### Пример с else"
   ]
  },
  {
   "cell_type": "code",
   "execution_count": null,
   "metadata": {},
   "outputs": [],
   "source": [
    "# else выполняется, если цикл завершился без break\n",
    "for i in range(3):\n",
    "    print(i)\n",
    "else:\n",
    "    print(\"Цикл завершен\")"
   ]
  },
  {
   "cell_type": "markdown",
   "metadata": {},
   "source": [
    "### Пример использования else в цикле for\n",
    "\n",
    "Пусть у нас есть список чисел, и мы хотим проверить, есть ли среди них число, кратное 7. Если находим такое число, выходим из цикла. Если число не найдено, выводим сообщение об этом с использованием `else`."
   ]
  },
  {
   "cell_type": "code",
   "execution_count": null,
   "metadata": {},
   "outputs": [],
   "source": [
    "numbers = [1, 4, 6, 10, 13]\n",
    "\n",
    "for num in numbers:\n",
    "    if num % 7 == 0:\n",
    "        print(f\"Нашли число, кратное 7: {num}\")\n",
    "        break\n",
    "else:\n",
    "    print(\"Число, кратное 7, не найдено.\")"
   ]
  },
  {
   "cell_type": "markdown",
   "metadata": {},
   "source": [
    "__Объяснение__: Если ни одно из чисел не кратно 7, цикл завершится полностью, и блок `else` выполнится, выводя сообщение о том, что число не найдено."
   ]
  },
  {
   "cell_type": "markdown",
   "metadata": {},
   "source": [
    "### Пример использования else в цикле while\n",
    "\n",
    "С помощью `else` в цикле `while` можно, например, попытаться выполнить несколько попыток и только при их исчерпании выполнять дополнительные действия."
   ]
  },
  {
   "cell_type": "code",
   "execution_count": null,
   "metadata": {},
   "outputs": [],
   "source": [
    "attempts = 3\n",
    "number = 9\n",
    "found = False\n",
    "\n",
    "while attempts > 0:\n",
    "    guess = int(input(\"Угадайте число от 1 до 10: \"))\n",
    "    if guess == number:\n",
    "        print(\"Поздравляем, вы угадали!\")\n",
    "        found = True\n",
    "        break\n",
    "    else:\n",
    "        attempts -= 1\n",
    "        print(f\"Неправильно. Осталось попыток: {attempts}\")\n",
    "\n",
    "if not found:\n",
    "    print(\"Попытки закончились. Вы не угадали число.\")\n"
   ]
  },
  {
   "cell_type": "markdown",
   "metadata": {},
   "source": [
    "__Объяснение__: Если игрок угадал число, цикл завершится с помощью `break`, и `else` не выполнится. Но если количество попыток исчерпано, цикл завершится естественно, и `else` выдаст сообщение о том, что игрок не угадал."
   ]
  },
  {
   "cell_type": "markdown",
   "metadata": {},
   "source": [
    "### Пример: Поиск простого числа с использованием else в for\n",
    "Используем цикл for...else для поиска, является ли число простым. Если делитель для числа не найден, то выводим, что число простое."
   ]
  },
  {
   "cell_type": "code",
   "execution_count": null,
   "metadata": {},
   "outputs": [],
   "source": [
    "number = 29\n",
    "\n",
    "for i in range(2, int(number ** 0.5) + 1):\n",
    "    if number % i == 0:\n",
    "        print(f\"{number} не является простым числом.\")\n",
    "        break\n",
    "else:\n",
    "    print(f\"{number} является простым числом.\")\n"
   ]
  },
  {
   "cell_type": "markdown",
   "metadata": {},
   "source": [
    "__Объяснение__: Если делитель найден, цикл прерывается `break`, и `else` не выполняется. Если делителя нет (цикл завершается полностью), `else` сообщает, что число простое."
   ]
  },
  {
   "cell_type": "markdown",
   "metadata": {},
   "source": [
    "### Пример: Использование else для завершения поиска\n",
    "\n",
    "Попробуем найти нужный элемент в списке. Если элемент не найден, используем else для дополнительного действия."
   ]
  },
  {
   "cell_type": "code",
   "execution_count": null,
   "metadata": {},
   "outputs": [],
   "source": [
    "items = [\"яблоко\", \"банан\", \"груша\"]\n",
    "item_to_find = \"ананас\"\n",
    "\n",
    "for item in items:\n",
    "    if item == item_to_find:\n",
    "        print(\"Найдено:\", item)\n",
    "        break\n",
    "else:\n",
    "    print(\"Элемент не найден.\")\n"
   ]
  },
  {
   "cell_type": "markdown",
   "metadata": {},
   "source": [
    "__Объяснение__: Если элемент не найден, цикл завершается естественным образом, и выполняется else, сообщая, что элемент не найден."
   ]
  },
  {
   "cell_type": "markdown",
   "metadata": {},
   "source": [
    "# 5. Вложенные циклы\n",
    "\n",
    "__Вложенные циклы__ — это циклы, которые выполняются внутри других циклов. \n",
    "\n",
    "Они используются, когда нужно выполнить повторяющиеся действия внутри других повторяющихся действий, например, для обработки двумерных структур данных, таких как матрицы, создания сложных комбинаций элементов, построения таблиц и выполнения различных алгоритмов, связанных с перебором.\n",
    "\n",
    "__Синтаксис вложенных циклов__\n",
    "\n",
    "Вложенные циклы работают по такому принципу: внешний цикл выполняет одну итерацию и запускает внутренний цикл, который проходит через все свои итерации, затем снова возвращается к внешнему циклу и повторяет процесс.\n",
    "\n",
    "```python\n",
    "for i in range(внешний_диапазон):\n",
    "    for j in range(внутренний_диапазон):\n",
    "        # выполняемые операции\n",
    "\n",
    "```"
   ]
  },
  {
   "cell_type": "markdown",
   "metadata": {},
   "source": [
    "### Примеры использования вложенных циклов\n",
    "\n",
    "__Пример 1: Таблица умножения__\n",
    "\n",
    "Используем вложенные циклы для вывода таблицы умножения.\n",
    "\n"
   ]
  },
  {
   "cell_type": "code",
   "execution_count": null,
   "metadata": {},
   "outputs": [],
   "source": [
    "for i in range(1, 6):\n",
    "    for j in range(1, 6):\n",
    "        print(f\"{i * j:2}\", end=\" \")\n",
    "    print()  # Переход на новую строку после каждой строки таблицы"
   ]
  },
  {
   "cell_type": "markdown",
   "metadata": {},
   "source": [
    "__Объяснение__: Внешний цикл отвечает за строки, а внутренний цикл — за столбцы. end=\" \" не позволяет переходить на новую строку после print, пока не завершится внутренняя итерация."
   ]
  },
  {
   "cell_type": "markdown",
   "metadata": {},
   "source": [
    "__Пример 2: Перебор элементов в матрице__\n",
    "\n",
    "Предположим, у нас есть матрица (список списков), и мы хотим вывести все элементы построчно."
   ]
  },
  {
   "cell_type": "code",
   "execution_count": null,
   "metadata": {},
   "outputs": [],
   "source": [
    "matrix = [\n",
    "    [1, 2, 3],\n",
    "    [4, 5, 6],\n",
    "    [7, 8, 9]\n",
    "]\n",
    "\n",
    "for row in matrix:\n",
    "    for element in row:\n",
    "        print(element, end=\" \")\n",
    "    print()  # Новый ряд после каждой строки матрицы"
   ]
  },
  {
   "cell_type": "markdown",
   "metadata": {},
   "source": [
    "__Объяснение__: Внешний цикл проходит по строкам матрицы, а внутренний — по элементам каждой строки."
   ]
  },
  {
   "cell_type": "markdown",
   "metadata": {},
   "source": [
    "__Пример 3: Создание комбинаций__\n",
    "\n",
    "Вложенные циклы можно использовать для создания комбинаций элементов из двух списков."
   ]
  },
  {
   "cell_type": "code",
   "execution_count": null,
   "metadata": {},
   "outputs": [],
   "source": [
    "colors = [\"красный\", \"синий\", \"зелёный\"]\n",
    "objects = [\"мяч\", \"кубик\"]\n",
    "\n",
    "for color in colors:\n",
    "    for obj in objects:\n",
    "        print(color, obj)"
   ]
  },
  {
   "cell_type": "markdown",
   "metadata": {},
   "source": [
    "__Объяснение__: Внешний цикл проходит по каждому цвету, а внутренний сочетает его с каждым объектом, создавая все возможные комбинации."
   ]
  },
  {
   "cell_type": "markdown",
   "metadata": {},
   "source": [
    "__Пример 4: Подсчёт совпадений в двумерном списке__\n",
    "\n",
    "Используем вложенные циклы для поиска всех вхождений определённого числа в матрице."
   ]
  },
  {
   "cell_type": "code",
   "execution_count": null,
   "metadata": {},
   "outputs": [],
   "source": [
    "matrix = [\n",
    "    [5, 1, 5],\n",
    "    [3, 5, 8],\n",
    "    [5, 7, 5]\n",
    "]\n",
    "target = 5\n",
    "count = 0\n",
    "\n",
    "for row in matrix:\n",
    "    for element in row:\n",
    "        if element == target:\n",
    "            count += 1\n",
    "\n",
    "print(f\"Число {target} встречается {count} раз(а).\")"
   ]
  },
  {
   "cell_type": "markdown",
   "metadata": {},
   "source": [
    "__Объяснение__: Внутренний цикл проверяет каждый элемент строки на совпадение с целевым числом и увеличивает счётчик, если найдено совпадение."
   ]
  },
  {
   "cell_type": "markdown",
   "metadata": {},
   "source": [
    "### Вложенные циклы while\n",
    "\n",
    "Вложенные циклы могут быть и с использованием while"
   ]
  },
  {
   "cell_type": "code",
   "execution_count": null,
   "metadata": {},
   "outputs": [],
   "source": [
    "i = 1\n",
    "while i <= 3:\n",
    "    j = 1\n",
    "    while j <= 3:\n",
    "        print(f\"i = {i}, j = {j}\")\n",
    "        j += 1\n",
    "    i += 1"
   ]
  },
  {
   "cell_type": "markdown",
   "metadata": {},
   "source": [
    "__Объяснение__: Внешний цикл увеличивает i, а внутренний увеличивает j и выводит комбинации значений."
   ]
  },
  {
   "cell_type": "markdown",
   "metadata": {},
   "source": [
    "### Использование break и continue во вложенных циклах\n",
    "\n",
    "Операторы break и continue могут завершать или пропускать итерации на определённом уровне цикла. \n",
    "\n",
    "Например, чтобы выйти из обоих циклов при нахождении определённого элемента, часто используют флаг или else в цикле."
   ]
  },
  {
   "cell_type": "code",
   "execution_count": null,
   "metadata": {},
   "outputs": [],
   "source": [
    "matrix = [\n",
    "    [1, 2, 3],\n",
    "    [4, 5, 6],\n",
    "    [7, 8, 9]\n",
    "]\n",
    "found = False\n",
    "\n",
    "for row in matrix:\n",
    "    for element in row:\n",
    "        if element == 5:\n",
    "            print(\"Элемент 5 найден.\")\n",
    "            found = True\n",
    "            break\n",
    "    if found:\n",
    "        break"
   ]
  },
  {
   "cell_type": "markdown",
   "metadata": {},
   "source": [
    "__Объяснение__: После нахождения элемента 5 флаг found становится True, и оба цикла завершаются."
   ]
  }
 ],
 "metadata": {
  "kernelspec": {
   "display_name": "courses",
   "language": "python",
   "name": "python3"
  },
  "language_info": {
   "codemirror_mode": {
    "name": "ipython",
    "version": 3
   },
   "file_extension": ".py",
   "mimetype": "text/x-python",
   "name": "python",
   "nbconvert_exporter": "python",
   "pygments_lexer": "ipython3",
   "version": "3.11.7"
  }
 },
 "nbformat": 4,
 "nbformat_minor": 2
}
