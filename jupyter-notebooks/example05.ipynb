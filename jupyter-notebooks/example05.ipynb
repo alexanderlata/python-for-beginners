{
 "cells": [
  {
   "cell_type": "markdown",
   "metadata": {},
   "source": [
    "# Условный оператор в Python"
   ]
  },
  {
   "cell_type": "markdown",
   "metadata": {},
   "source": [
    "Условный оператор используется для выполнения различных действий в зависимости от выполнения условия. В Python основным условным оператором является `if`, который проверяет выражение и, если оно истинно, выполняет соответствующий блок кода."
   ]
  },
  {
   "cell_type": "markdown",
   "metadata": {},
   "source": [
    "## Синтаксис условного оператора"
   ]
  },
  {
   "cell_type": "markdown",
   "metadata": {},
   "source": [
    "### Краткая форма - (`if`)\n",
    "```python\n",
    "if условие:\n",
    "    # блок кода\n",
    "\n",
    "```\n",
    "\n",
    "Если выражение в `условие` истинно (`True`), то выполняется блок кода, расположенный под `if`, иначе этот блок пропускается.\n",
    "\n",
    "Пример:"
   ]
  },
  {
   "cell_type": "code",
   "execution_count": 7,
   "metadata": {},
   "outputs": [
    {
     "name": "stdout",
     "output_type": "stream",
     "text": [
      "10 больше 5\n"
     ]
    }
   ],
   "source": [
    "x = 10\n",
    "if x > 5:\n",
    "    print(f\"{x} больше 5\")"
   ]
  },
  {
   "cell_type": "markdown",
   "metadata": {},
   "source": [
    "### Полная форма - (`if-else`)\n",
    "```python\n",
    "if условие:\n",
    "    # блок кода, если условие истинно\n",
    "else:\n",
    "    # блок кода, если условие ложно\n",
    "\n",
    "```\n",
    "\n",
    "В этом случае, если `условие` истинно (`True`), выполняется первый блок кода, а если ложно (`False`), — выполняется второй.\n",
    "\n",
    "Пример:"
   ]
  },
  {
   "cell_type": "code",
   "execution_count": 8,
   "metadata": {},
   "outputs": [
    {
     "name": "stdout",
     "output_type": "stream",
     "text": [
      "3 — нечетное число\n"
     ]
    }
   ],
   "source": [
    "x = 3\n",
    "if x % 2 == 0:\n",
    "    print(f\"{x} — четное число\")\n",
    "else:\n",
    "    print(f\"{x} — нечетное число\")"
   ]
  },
  {
   "cell_type": "markdown",
   "metadata": {},
   "source": [
    "### Множественное ветвление - (`if-elif-else`)\n",
    "\n",
    "```python\n",
    "if условие1:\n",
    "    # блок кода, если условие1 истинно\n",
    "elif условие2:\n",
    "    # блок кода, если условие1 ложно, а условие2 истинно\n",
    "else:\n",
    "    # блок кода, если ни одно из условий не истинно\n",
    "\n",
    "```\n",
    "\n",
    "Можно использовать несколько веток `elif`, чтобы проверять разные условия. <br>\n",
    "Если ни одно из условий не выполнено, выполняется блок кода под `else`.\n",
    "\n",
    "Примеры:"
   ]
  },
  {
   "cell_type": "code",
   "execution_count": 9,
   "metadata": {},
   "outputs": [
    {
     "name": "stdout",
     "output_type": "stream",
     "text": [
      "Хорошо\n"
     ]
    }
   ],
   "source": [
    "# Работа с оценками\n",
    "grade = 85\n",
    "if grade >= 90:\n",
    "    letter = \"A\"\n",
    "elif grade >= 82:\n",
    "    letter = \"B\"\n",
    "elif grade >= 75:\n",
    "    letter = \"C\"\n",
    "elif grade >= 60:\n",
    "    letter = \"D\"\n",
    "else:\n",
    "    letter = \"F\""
   ]
  },
  {
   "cell_type": "code",
   "execution_count": null,
   "metadata": {},
   "outputs": [],
   "source": [
    "# Определение времени года\n",
    "month = 7\n",
    "if 3 <= month <= 5:\n",
    "    season = \"весна\"\n",
    "elif 6 <= month <= 8:\n",
    "    season = \"лето\"\n",
    "elif 9 <= month <= 11:\n",
    "    season = \"осень\"\n",
    "else:\n",
    "    season = \"зима\""
   ]
  },
  {
   "cell_type": "markdown",
   "metadata": {},
   "source": [
    "### Тернарный оператор\n",
    "\n",
    "__Синтаксис__\n",
    "\n",
    "```python\n",
    "результат = значение1 if условие else значение2\n",
    "```\n",
    "Примеры"
   ]
  },
  {
   "cell_type": "code",
   "execution_count": 11,
   "metadata": {},
   "outputs": [],
   "source": [
    "age = 20\n",
    "status = \"взрослый\" if age >= 18 else \"ребенок\""
   ]
  },
  {
   "cell_type": "code",
   "execution_count": null,
   "metadata": {},
   "outputs": [],
   "source": [
    "text = \"Hello.\"\n",
    "result = \"оканчивается точкой\" if text.endswith('.') else \"не оканчивается точкой\""
   ]
  },
  {
   "cell_type": "markdown",
   "metadata": {},
   "source": [
    "### Операторы сравнения\n",
    "\n",
    "Операторы сравнения используются для сравнения значений и возвращают результат в виде `True` или `False`. \n",
    "\n",
    "Основные операторы:\n",
    "\n",
    "- `==` - равно\n",
    "- `!=` - не равно\n",
    "- `<` - меньше\n",
    "- `>` - больше\n",
    "- `<=` - меньше или равно\n",
    "- `>=` - больше или равно\n",
    "\n",
    "Пример:\n"
   ]
  },
  {
   "cell_type": "code",
   "execution_count": 5,
   "metadata": {},
   "outputs": [
    {
     "name": "stdout",
     "output_type": "stream",
     "text": [
      "10 меньше 20\n"
     ]
    }
   ],
   "source": [
    "a = 10\n",
    "b = 20\n",
    "if a < b:\n",
    "    print(f\"{a} меньше {b}\")\n",
    "else:\n",
    "    print(f\"{a} не меньше {b}\")"
   ]
  },
  {
   "cell_type": "markdown",
   "metadata": {},
   "source": [
    "### Логические операторы\n",
    "\n",
    "Логические операторы позволяют комбинировать несколько условий:\n",
    "\n",
    "- `and` — логическое \"И\". Условие истинно, если истинны оба выражения.\n",
    "- `or` — логическое \"ИЛИ\". Условие истинно, если хотя бы одно из выражений истинно.\n",
    "- `not` — логическое \"НЕ\". Инвертирует значение выражения.\n",
    "\n",
    "Пример:"
   ]
  },
  {
   "cell_type": "code",
   "execution_count": 2,
   "metadata": {},
   "outputs": [
    {
     "name": "stdout",
     "output_type": "stream",
     "text": [
      "5 меньше 10 и 10 меньше 15\n"
     ]
    }
   ],
   "source": [
    "a = 5\n",
    "b = 10\n",
    "c = 15\n",
    "if a < b and b < c:\n",
    "    print(f\"{a} меньше {b} и {b} меньше {c}\")"
   ]
  },
  {
   "cell_type": "markdown",
   "metadata": {},
   "source": [
    "### Проверка истинности значений\n",
    "\n",
    "В Python следующие значения считаются ложными (`False`):\n",
    "\n",
    "- `False`\n",
    "- `None`\n",
    "- `0`\n",
    "- `0.0`\n",
    "- `''` (пустая строка)\n",
    "- `[]` (пустой список)\n",
    "- `{}` (пустой словарь)\n",
    "- `()` (пустой кортеж)\n",
    "- `set()` (пустое множество)\n",
    "\n",
    "Все остальные значения считаются истинными (`True`)."
   ]
  },
  {
   "cell_type": "markdown",
   "metadata": {},
   "source": [
    "### Вложенные условные операторы (Вложенные условия)\n",
    "\n",
    "Вложенные условные операторы — это операторы `if`, расположенные внутри других операторов `if`. <br>\n",
    "Они позволяют проверять условия более сложного характера.\n",
    "\n",
    "Примеры:"
   ]
  },
  {
   "cell_type": "code",
   "execution_count": 3,
   "metadata": {},
   "outputs": [
    {
     "name": "stdout",
     "output_type": "stream",
     "text": [
      "Положительное четное число\n"
     ]
    }
   ],
   "source": [
    "x = 12\n",
    "if x > 0:\n",
    "    if x % 2 == 0:\n",
    "        print(\"Положительное четное число\")\n",
    "    else:\n",
    "        print(\"Положительное нечетное число\")\n",
    "else:\n",
    "    print(\"Неположительное число\")"
   ]
  },
  {
   "cell_type": "code",
   "execution_count": 10,
   "metadata": {},
   "outputs": [
    {
     "name": "stdout",
     "output_type": "stream",
     "text": [
      "10 и 5 положительные\n"
     ]
    }
   ],
   "source": [
    "x = 10\n",
    "y = 5\n",
    "if x > 0:\n",
    "    if y > 0:\n",
    "        print(f\"{x} и {y} положительные\")\n",
    "    else:\n",
    "        print(f\"{x} положительное, {y} не положительное\")"
   ]
  },
  {
   "cell_type": "markdown",
   "metadata": {},
   "source": [
    "## Примеры использования условного оператора с разными типами данных"
   ]
  },
  {
   "cell_type": "markdown",
   "metadata": {},
   "source": [
    "__С числами__"
   ]
  },
  {
   "cell_type": "code",
   "execution_count": null,
   "metadata": {},
   "outputs": [],
   "source": [
    "number = 5\n",
    "if number > 0:\n",
    "    print(\"Положительное число\")\n",
    "elif number < 0:\n",
    "    print(\"Отрицательное число\")\n",
    "else:\n",
    "    print(\"Ноль\")"
   ]
  },
  {
   "cell_type": "markdown",
   "metadata": {},
   "source": [
    "__Со строками__"
   ]
  },
  {
   "cell_type": "code",
   "execution_count": null,
   "metadata": {},
   "outputs": [],
   "source": [
    "text = \"Python\"\n",
    "if text.startswith(\"P\"):\n",
    "    print(\"Строка начинается с P\")\n",
    "if len(text) > 5:\n",
    "    print(\"Длинная строка\")"
   ]
  },
  {
   "cell_type": "markdown",
   "metadata": {},
   "source": [
    "__Со списками__"
   ]
  },
  {
   "cell_type": "code",
   "execution_count": null,
   "metadata": {},
   "outputs": [],
   "source": [
    "my_list = [1, 2, 3]\n",
    "if 2 in my_list:\n",
    "    print(\"Число 2 есть в списке\")\n",
    "if len(my_list) > 0:\n",
    "    print(\"Список не пустой\")"
   ]
  }
 ],
 "metadata": {
  "kernelspec": {
   "display_name": "courses",
   "language": "python",
   "name": "python3"
  },
  "language_info": {
   "codemirror_mode": {
    "name": "ipython",
    "version": 3
   },
   "file_extension": ".py",
   "mimetype": "text/x-python",
   "name": "python",
   "nbconvert_exporter": "python",
   "pygments_lexer": "ipython3",
   "version": "3.11.7"
  }
 },
 "nbformat": 4,
 "nbformat_minor": 2
}
