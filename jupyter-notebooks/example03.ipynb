{
 "cells": [
  {
   "cell_type": "markdown",
   "metadata": {},
   "source": [
    "# Методы работы со списками и списковыми включениями"
   ]
  },
  {
   "cell_type": "markdown",
   "metadata": {},
   "source": [
    "Списки (`list`) — это один из самых универсальных и широко используемых типов данных в Python. \n",
    "\n",
    "Они представляют собой упорядоченные изменяемые коллекции элементов, которые могут содержать объекты разных типов. \n",
    "\n",
    "Методы работы со списками и списковые включения (list comprehensions) позволяют эффективно манипулировать данными, выполнять фильтрацию, трансформацию и другие операции."
   ]
  },
  {
   "cell_type": "markdown",
   "metadata": {},
   "source": [
    "## Основные методы списков"
   ]
  },
  {
   "cell_type": "markdown",
   "metadata": {},
   "source": [
    "0. Создание списков"
   ]
  },
  {
   "cell_type": "code",
   "execution_count": null,
   "metadata": {},
   "outputs": [],
   "source": [
    "# пустой список\n",
    "empty_list = []\n",
    "# список из элементов 1, 2, 3, 4, 5\n",
    "my_list = [1, 2, 3, 4, 5]"
   ]
  }
 ],
 "metadata": {
  "language_info": {
   "name": "python"
  }
 },
 "nbformat": 4,
 "nbformat_minor": 2
}
