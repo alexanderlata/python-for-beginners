{
 "cells": [
  {
   "cell_type": "markdown",
   "metadata": {},
   "source": [
    "# Методы работы со строками в Python"
   ]
  },
  {
   "cell_type": "markdown",
   "metadata": {},
   "source": [
    "<div class=\"alert alert-block alert-success\">\n",
    "\n",
    "Строки (__str__) в Python — это последовательности символов, которые используются для хранения и обработки текстовой информации.\n",
    "\n",
    "Python автоматически определяет тип __str__ по кавычкам – одинарным `''` или двойным `\"\"`.\n",
    "\n",
    "Строки в Python неизменяемы, что означает, что их нельзя изменять после создания. Однако можно создавать новые строки на основе операций с существующими.\n",
    "\n",
    "</div>"
   ]
  },
  {
   "cell_type": "markdown",
   "metadata": {},
   "source": [
    "## Создание строк"
   ]
  },
  {
   "cell_type": "code",
   "execution_count": null,
   "metadata": {},
   "outputs": [],
   "source": [
    "# пустые строки\n",
    "first_string = ''\n",
    "second_string = \"\"\n",
    "# строка из символов\n",
    "third_string = \"Hello World 555\""
   ]
  },
  {
   "cell_type": "markdown",
   "metadata": {},
   "source": [
    "## Индексация строк в Python"
   ]
  },
  {
   "cell_type": "markdown",
   "metadata": {},
   "source": [
    "Для обращения к определенному символу строки используют индекс – порядковый номер элемента.\n",
    "\n",
    "Python поддерживает два типа индексации – __положительную__, при которой отсчет элементов начинается с __0__ и __с начала строки__, и __отрицательную__, при которой отсчет начинается с __-1__ и __с конца__\n",
    "\n",
    "| **Строка (Кафедра)**         | К  | а  | ф  | е  | д  | р  | а  |\n",
    "|:-------------------------:|:---:|:---:|:---:|:---:|:---:|:---:|:---:|\n",
    "| **Положительные индексы** | 0  | 1  | 2  | 3  | 4  | 5  | 6  |\n",
    "| **Отрицательные индексы** | -7 | -6 | -5 | -4 | -3 | -2 | -1 |\n"
   ]
  },
  {
   "cell_type": "markdown",
   "metadata": {},
   "source": [
    "Чтобы получить определенный элемент строки, нужно указать его индекс в квадратных скобках"
   ]
  },
  {
   "cell_type": "code",
   "execution_count": null,
   "metadata": {},
   "outputs": [],
   "source": [
    "stroka = 'программирование'\n",
    "print(stroka[7])\n",
    "print(stroka[-1])"
   ]
  },
  {
   "cell_type": "markdown",
   "metadata": {},
   "source": [
    "## Подстроки"
   ]
  },
  {
   "cell_type": "markdown",
   "metadata": {},
   "source": [
    "__Подстрокой__ называется фрагмент определенной строки. \n",
    "\n",
    "Например, 'abra' является подстрокой 'abrakadabra'. \n",
    "\n",
    "Чтобы определить, входит ли какая-то определенная подстрока в строку, используют оператор `in`"
   ]
  },
  {
   "cell_type": "code",
   "execution_count": null,
   "metadata": {},
   "outputs": [],
   "source": [
    "stroka = 'abrakadabra'\n",
    "print('abra' in stroka)\n",
    "print('zebra' in stroka)"
   ]
  },
  {
   "cell_type": "markdown",
   "metadata": {},
   "source": [
    "## Преобразование других типов данных в строку"
   ]
  },
  {
   "cell_type": "markdown",
   "metadata": {},
   "source": [
    "Целые и вещественные числа преобразуются в строки одинаково"
   ]
  },
  {
   "cell_type": "code",
   "execution_count": null,
   "metadata": {},
   "outputs": [],
   "source": [
    "number1 = 55\n",
    "number2 = 55.5\n",
    "stroka1 = str(number1)\n",
    "stroka2 = str(number2)\n",
    "print(type(stroka1))\n",
    "print(type(stroka2))"
   ]
  },
  {
   "cell_type": "markdown",
   "metadata": {},
   "source": [
    "## Основные методы работы со строками"
   ]
  },
  {
   "cell_type": "markdown",
   "metadata": {},
   "source": [
    "1. Конкатенация строк: С помощью оператора + можно соединять строки."
   ]
  },
  {
   "cell_type": "code",
   "execution_count": null,
   "metadata": {},
   "outputs": [],
   "source": [
    "s1 = \"Hello\"\n",
    "s2 = \"World\"\n",
    "result = s1 + \" \" + s2\n",
    "print(result)"
   ]
  },
  {
   "cell_type": "markdown",
   "metadata": {},
   "source": [
    "2. Повторение строки (__репликация__): Строки можно повторять с помощью оператора *."
   ]
  },
  {
   "cell_type": "code",
   "execution_count": null,
   "metadata": {},
   "outputs": [],
   "source": [
    "s = \"Hi! \"\n",
    "result = s * 3\n",
    "print(result)"
   ]
  },
  {
   "cell_type": "markdown",
   "metadata": {},
   "source": [
    "3. Метод `.upper()`: Преобразует все символы строки в заглавные."
   ]
  },
  {
   "cell_type": "code",
   "execution_count": null,
   "metadata": {},
   "outputs": [],
   "source": [
    "s = \"hello\"\n",
    "result = s.upper()\n",
    "print(result)"
   ]
  },
  {
   "cell_type": "markdown",
   "metadata": {},
   "source": [
    "4. Метод `.lower()`: Преобразует все символы строки в строчные."
   ]
  },
  {
   "cell_type": "code",
   "execution_count": null,
   "metadata": {},
   "outputs": [],
   "source": [
    "s = \"HELLO\"\n",
    "result = s.lower()\n",
    "print(result)"
   ]
  },
  {
   "cell_type": "markdown",
   "metadata": {},
   "source": [
    "5. Метод `.capitalize()`: Делает первую букву строки заглавной, остальные — строчными."
   ]
  },
  {
   "cell_type": "code",
   "execution_count": null,
   "metadata": {},
   "outputs": [],
   "source": [
    "s = \"python programming\"\n",
    "result = s.capitalize()\n",
    "print(result)"
   ]
  },
  {
   "cell_type": "markdown",
   "metadata": {},
   "source": [
    "6. Метод `.title()`: Делает заглавной первую букву каждого слова в строке."
   ]
  },
  {
   "cell_type": "code",
   "execution_count": null,
   "metadata": {},
   "outputs": [],
   "source": [
    "s = \"python programming\"\n",
    "result = s.title()\n",
    "print(result)"
   ]
  },
  {
   "cell_type": "markdown",
   "metadata": {},
   "source": [
    "7. Метод `.strip()`: Убирает пробелы (или другие указанные символы) с начала и конца строки."
   ]
  },
  {
   "cell_type": "code",
   "execution_count": null,
   "metadata": {},
   "outputs": [],
   "source": [
    "s = \"  Hello World  \"\n",
    "result = s.strip()\n",
    "print(result)"
   ]
  },
  {
   "cell_type": "markdown",
   "metadata": {},
   "source": [
    "8. Метод `.lstrip()` и `.rstrip()`: Убирают пробелы слева и справа соответственно."
   ]
  },
  {
   "cell_type": "code",
   "execution_count": null,
   "metadata": {},
   "outputs": [],
   "source": [
    "s = \"  Hello  \"\n",
    "print(s.lstrip())\n",
    "print(s.rstrip())"
   ]
  },
  {
   "cell_type": "markdown",
   "metadata": {},
   "source": [
    "9. Метод `.replace(old, new)`: Заменяет все вхождения подстроки old на подстроку new."
   ]
  },
  {
   "cell_type": "code",
   "execution_count": null,
   "metadata": {},
   "outputs": [],
   "source": [
    "s = \"Hello World\"\n",
    "result = s.replace(\"World\", \"Python\")\n",
    "print(result)"
   ]
  },
  {
   "cell_type": "markdown",
   "metadata": {},
   "source": [
    "10. Метод `.find(sub)`: Возвращает индекс первого вхождения подстроки `sub` в строке. Если подстрока не найдена, возвращает -1."
   ]
  },
  {
   "cell_type": "code",
   "execution_count": null,
   "metadata": {},
   "outputs": [],
   "source": [
    "s = \"Hello World\"\n",
    "index = s.find(\"World\")\n",
    "print(index)"
   ]
  },
  {
   "cell_type": "markdown",
   "metadata": {},
   "source": [
    "11. Метод `.count(sub)`: Возвращает количество вхождений подстроки `sub` в строке."
   ]
  },
  {
   "cell_type": "code",
   "execution_count": null,
   "metadata": {},
   "outputs": [],
   "source": [
    "s = \"banana\"\n",
    "count = s.count(\"a\")\n",
    "print(count)"
   ]
  },
  {
   "cell_type": "markdown",
   "metadata": {},
   "source": [
    "12. Метод `.split(delimiter)`: Разделяет строку на список по разделителю `delimiter`."
   ]
  },
  {
   "cell_type": "code",
   "execution_count": null,
   "metadata": {},
   "outputs": [],
   "source": [
    "s = \"one, two, three\"\n",
    "result = s.split(\", \")\n",
    "print(result)"
   ]
  },
  {
   "cell_type": "markdown",
   "metadata": {},
   "source": [
    "13. Метод `.join(list)`: Объединяет элементы списка в строку, используя указанную строку в качестве разделителя."
   ]
  },
  {
   "cell_type": "code",
   "execution_count": null,
   "metadata": {},
   "outputs": [],
   "source": [
    "words = ['Hello', 'World']\n",
    "result = \" \".join(words)\n",
    "print(result)"
   ]
  },
  {
   "cell_type": "markdown",
   "metadata": {},
   "source": [
    "14. Метод `.startswith(sub)` и `.endswith(sub)`: Проверяют, начинается или заканчивается строка на подстроку `sub`."
   ]
  },
  {
   "cell_type": "code",
   "execution_count": null,
   "metadata": {},
   "outputs": [],
   "source": [
    "s = \"Hello World\"\n",
    "print(s.startswith(\"Hello\"))\n",
    "print(s.endswith(\"Python\"))"
   ]
  },
  {
   "cell_type": "markdown",
   "metadata": {},
   "source": [
    "15. Метод `.isalpha()`: Проверяет, состоит ли строка только из букв."
   ]
  },
  {
   "cell_type": "code",
   "execution_count": null,
   "metadata": {},
   "outputs": [],
   "source": [
    "s = \"Hello\"\n",
    "print(s.isalpha())"
   ]
  },
  {
   "cell_type": "markdown",
   "metadata": {},
   "source": [
    "16. Метод `.isdigit()`: Проверяет, состоит ли строка только из цифр."
   ]
  },
  {
   "cell_type": "code",
   "execution_count": null,
   "metadata": {},
   "outputs": [],
   "source": [
    "s = \"12345\"\n",
    "print(s.isdigit())"
   ]
  },
  {
   "cell_type": "markdown",
   "metadata": {},
   "source": [
    "17. Метод `.isspace()`: Проверяет, состоит ли строка только из пробелов."
   ]
  },
  {
   "cell_type": "code",
   "execution_count": null,
   "metadata": {},
   "outputs": [],
   "source": [
    "s = \"   \"\n",
    "print(s.isspace())"
   ]
  },
  {
   "cell_type": "markdown",
   "metadata": {},
   "source": [
    "18. Метод `.center(width, fillchar)`: Центрирует строку до длины `width`, заполняя пробелы указанным символом `fillchar`."
   ]
  },
  {
   "cell_type": "code",
   "execution_count": null,
   "metadata": {},
   "outputs": [],
   "source": [
    "s = \"Hello\"\n",
    "result = s.center(10, '*')\n",
    "print(result)"
   ]
  },
  {
   "cell_type": "markdown",
   "metadata": {},
   "source": [
    "19. Метод `.zfill(width)`: Дополняет строку нулями слева до длины `width`."
   ]
  },
  {
   "cell_type": "code",
   "execution_count": null,
   "metadata": {},
   "outputs": [],
   "source": [
    "s = \"42\"\n",
    "result = s.zfill(5)\n",
    "print(result)"
   ]
  },
  {
   "cell_type": "markdown",
   "metadata": {},
   "source": [
    "20. Метод `.swapcase()`: Меняет регистр всех символов строки на противоположный."
   ]
  },
  {
   "cell_type": "code",
   "execution_count": null,
   "metadata": {},
   "outputs": [],
   "source": [
    "s = \"Hello World\"\n",
    "result = s.swapcase()\n",
    "print(result)"
   ]
  },
  {
   "cell_type": "markdown",
   "metadata": {},
   "source": [
    "21. Функция `len()`: Подсчитывает общее количество символов в строке, включая пробелы."
   ]
  },
  {
   "cell_type": "code",
   "execution_count": null,
   "metadata": {},
   "outputs": [],
   "source": [
    "stroka = 'python'\n",
    "print(len(stroka))"
   ]
  },
  {
   "cell_type": "markdown",
   "metadata": {},
   "source": [
    "22. Функция `max()`: "
   ]
  },
  {
   "cell_type": "code",
   "execution_count": null,
   "metadata": {},
   "outputs": [],
   "source": [
    "text = '12345'\n",
    "print(max(text))"
   ]
  },
  {
   "cell_type": "code",
   "execution_count": null,
   "metadata": {},
   "outputs": [],
   "source": [
    "text = 'Съешь еще этих мягких французских булок!'\n",
    "max(text)"
   ]
  },
  {
   "cell_type": "markdown",
   "metadata": {},
   "source": [
    "23. Функция `min()`:"
   ]
  },
  {
   "cell_type": "code",
   "execution_count": null,
   "metadata": {},
   "outputs": [],
   "source": [
    "text = '12345'\n",
    "print(min(text))"
   ]
  },
  {
   "cell_type": "code",
   "execution_count": null,
   "metadata": {},
   "outputs": [],
   "source": [
    "text = 'Съешь еще этих мягких французских булок!'\n",
    "min(text)"
   ]
  },
  {
   "cell_type": "markdown",
   "metadata": {},
   "source": [
    "## Срезы в Python\n",
    "\n",
    "<div class=\"alert alert-block alert-success\">\n",
    "\n",
    "Срез (__slice__) — механизм, который позволяет выбирать определенную часть последовательности, такой как строка, список или кортеж. Срезы формируются при помощи квадратных скобок «[]» и двоеточия «:». Синтаксис среза выглядит так:\n",
    "\n",
    "```python\n",
    "i_object[start:stop:step]\n",
    "```\n",
    "Где:\n",
    "\n",
    "- __i_object__ — это итерируемый объект (последовательность)\n",
    "- __start__ — индекс начала среза. Выбираются элементы начиная с него, включая сам элемент под этим индексом. Если он не указывается, то отсчет начинается с 0 индекса\n",
    "- __stop__ — индекс окончания среза. Выбираются элементы до него, при этом элемент под этим индексом не включается результат среза. Если он не указывается, то автоматически считается последний элемент в итерируемом объекте\n",
    "- __step__ — шаг. Если он не указывается, то по умолчанию равен 1.\n",
    "\n",
    "</div>\n",
    "\n",
    "<div class=\"alert alert-block alert-warning\">\n",
    "<b> Важно!</b>\n",
    "\n",
    "Срез в Python не изменяет исходный итерируемый объект, а создает новый объект, содержащий выбранные элементы исходного объекта. При этом исходный объект остается неизменным.\n",
    "\n",
    "</div>"
   ]
  },
  {
   "cell_type": "markdown",
   "metadata": {},
   "source": [
    "## Срез строки: как извлекать подстроку из строки"
   ]
  },
  {
   "cell_type": "markdown",
   "metadata": {},
   "source": [
    "Диапазон среза `[a:b]` начинается с первого указанного элемента __а__ включительно, и заканчивается на последнем, не включая __b__ в результат"
   ]
  },
  {
   "cell_type": "code",
   "execution_count": null,
   "metadata": {},
   "outputs": [],
   "source": [
    "stroka = 'программирование'\n",
    "print(stroka[7:10])"
   ]
  },
  {
   "cell_type": "markdown",
   "metadata": {},
   "source": [
    "Если не указать первый элемент диапазона `[:b]`, срез будет выполнен с начала строки до позиции второго элемента __b__"
   ]
  },
  {
   "cell_type": "code",
   "execution_count": null,
   "metadata": {},
   "outputs": [],
   "source": [
    "stroka = 'программa'\n",
    "print(stroka[:4])"
   ]
  },
  {
   "cell_type": "markdown",
   "metadata": {},
   "source": [
    "В случае отсутствия второго элемента `[a:]` срез будет сделан с позиции первого символа __a__ и до конца строки"
   ]
  },
  {
   "cell_type": "code",
   "execution_count": null,
   "metadata": {},
   "outputs": [],
   "source": [
    "stroka = 'программa'\n",
    "print(stroka[3:])"
   ]
  },
  {
   "cell_type": "markdown",
   "metadata": {},
   "source": [
    "Если не указана ни стартовая, ни финальная позиция среза, он будет равен исходной строке"
   ]
  },
  {
   "cell_type": "code",
   "execution_count": null,
   "metadata": {},
   "outputs": [],
   "source": [
    "stroka = 'позиции не заданы'\n",
    "print(stroka[:])"
   ]
  },
  {
   "cell_type": "markdown",
   "metadata": {},
   "source": [
    "__Шаг среза__\n",
    "\n",
    "Помимо диапазона, можно задавать __шаг среза__.\n",
    "\n",
    "В приведенном ниже примере выбирается символ из стартовой позиции среза, а затем каждая 3-я буква из диапазона"
   ]
  },
  {
   "cell_type": "code",
   "execution_count": null,
   "metadata": {},
   "outputs": [],
   "source": [
    "stroka = 'Python лучше всего подходит для новичков.'\n",
    "print(stroka[1:15:3])"
   ]
  },
  {
   "cell_type": "markdown",
   "metadata": {},
   "source": [
    "Шаг может быть отрицательным – в этом случае символы будут выбираться, начиная с конца строки"
   ]
  },
  {
   "cell_type": "code",
   "execution_count": null,
   "metadata": {},
   "outputs": [],
   "source": [
    "stroka = 'это пример отрицательного шага'\n",
    "print(stroka[-1:-15:-4])"
   ]
  },
  {
   "cell_type": "markdown",
   "metadata": {},
   "source": [
    "Срез[::-1] может оказаться очень полезным при решении задач, связанных с палиндромами"
   ]
  },
  {
   "cell_type": "code",
   "execution_count": null,
   "metadata": {},
   "outputs": [],
   "source": [
    "stroka = 'А роза упала на лапу Азора'\n",
    "print(stroka[::-1])"
   ]
  }
 ],
 "metadata": {
  "kernelspec": {
   "display_name": "courses",
   "language": "python",
   "name": "python3"
  },
  "language_info": {
   "codemirror_mode": {
    "name": "ipython",
    "version": 3
   },
   "file_extension": ".py",
   "mimetype": "text/x-python",
   "name": "python",
   "nbconvert_exporter": "python",
   "pygments_lexer": "ipython3",
   "version": "3.11.7"
  }
 },
 "nbformat": 4,
 "nbformat_minor": 2
}
