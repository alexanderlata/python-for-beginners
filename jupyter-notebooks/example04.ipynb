{
 "cells": [
  {
   "cell_type": "markdown",
   "metadata": {},
   "source": [
    "# Методы работы с кортежами в Python"
   ]
  },
  {
   "cell_type": "markdown",
   "metadata": {},
   "source": [
    "## Что такое кортеж?\n",
    "\n",
    "<div class=\"alert alert-block alert-success\">\n",
    "\n",
    "Кортеж (`tuple`) — это неизменяемая последовательность элементов в Python. \n",
    "\n",
    "Это означает, что после создания кортежа его элементы __нельзя изменять, добавлять или удалять.__ \n",
    "\n",
    "Кортежи похожи на списки, но они неизменяемы и обычно используются для хранения наборов данных, которые не должны изменяться в процессе выполнения программы.\n",
    "\n",
    "</div>\n",
    "<div class=\"alert alert-block alert-warning\">\n",
    "\n",
    "Кортежи создаются с использованием круглых скобок `()` или функции `tuple()`.\n",
    "\n",
    "</div>\n",
    "\n",
    "__Пример создания кортежа__\n",
    "```python\n",
    "# Пустой кортеж\n",
    "empty_tuple = ()\n",
    "\n",
    "# Пустой кортеж\n",
    "empty_tuple2 = tuple()\n",
    "\n",
    "# Кортеж с элементами\n",
    "my_tuple = (1, 2, 3, \"Python\", True)\n",
    "\n",
    "# Кортеж с одним элементом (нужно добавить запятую)\n",
    "single_element = ('один',)\n",
    "```\n",
    "<div class=\"alert alert-block alert-warning\">\n",
    "\n",
    "При создании кортежа с одним элементом после этого элемента __необходимо ставить запятую__, иначе Python не определяет конструкцию как кортеж.\n",
    "</div>"
   ]
  },
  {
   "cell_type": "code",
   "execution_count": null,
   "metadata": {},
   "outputs": [],
   "source": [
    "# ошибка \n",
    "# вместо кортежа создали число\n",
    "my_tuple = (5)\n",
    "type(my_tuple)"
   ]
  },
  {
   "cell_type": "markdown",
   "metadata": {},
   "source": [
    "## Распаковка строк и списков\n",
    "Оператор распаковки `*` и запятая после имени переменной автоматически превращают строки и списки в кортежи"
   ]
  },
  {
   "cell_type": "code",
   "execution_count": null,
   "metadata": {},
   "outputs": [],
   "source": [
    "my_string = 'Я изучаю Python'\n",
    "my_tuple = (*my_string,)\n",
    "print(my_tuple)"
   ]
  },
  {
   "cell_type": "code",
   "execution_count": null,
   "metadata": {},
   "outputs": [],
   "source": [
    "my_list = ['Python', 'HTML5', 'CSS', 'JavaScript']\n",
    "my_tuple2 = (*my_list,)\n",
    "print(my_tuple2)"
   ]
  },
  {
   "cell_type": "markdown",
   "metadata": {},
   "source": [
    "## Основные методы работы с кортежами"
   ]
  },
  {
   "cell_type": "markdown",
   "metadata": {},
   "source": [
    "1. **Создание кортежа**\n",
    "   Кортежи могут быть созданы как из отдельных элементов, так и с использованием функции `tuple()`."
   ]
  },
  {
   "cell_type": "code",
   "execution_count": null,
   "metadata": {},
   "outputs": [],
   "source": [
    "# Создание кортежа из списка\n",
    "list_example = [1, 2, 3]\n",
    "tuple_from_list = tuple(list_example)\n",
    "print(tuple_from_list)"
   ]
  },
  {
   "cell_type": "markdown",
   "metadata": {},
   "source": [
    "2. **Доступ к элементам**\n",
    "\n",
    "К элементам кортежа можно обращаться по индексу. __Индексация начинается с 0.__\n"
   ]
  },
  {
   "cell_type": "code",
   "execution_count": null,
   "metadata": {},
   "outputs": [],
   "source": [
    "my_tuple = (10, 20, 30, 40)\n",
    "print(my_tuple[0])\n",
    "print(my_tuple[2])"
   ]
  },
  {
   "cell_type": "markdown",
   "metadata": {},
   "source": [
    "3. **Срезы (slicing)**\n",
    "\n",
    "Как и списки, кортежи поддерживают срезы для доступа к подмножествам элементов."
   ]
  },
  {
   "cell_type": "code",
   "execution_count": null,
   "metadata": {},
   "outputs": [],
   "source": [
    "my_tuple = (10, 20, 30, 40, 50)\n",
    "print(my_tuple[1:4])\n",
    "print(my_tuple[:3])"
   ]
  },
  {
   "cell_type": "markdown",
   "metadata": {},
   "source": [
    "4. **Метод `count()`**\n",
    "\n",
    "Возвращает количество вхождений указанного элемента в кортеже."
   ]
  },
  {
   "cell_type": "code",
   "execution_count": null,
   "metadata": {},
   "outputs": [],
   "source": [
    "my_tuple = (1, 2, 2, 3, 4, 2)\n",
    "print(my_tuple.count(2))"
   ]
  },
  {
   "cell_type": "markdown",
   "metadata": {},
   "source": [
    "5. **Метод `index()`**\n",
    "\n",
    "Возвращает индекс первого вхождения указанного элемента в кортеже. Если элемент не найден, будет вызвано исключение `ValueError`."
   ]
  },
  {
   "cell_type": "code",
   "execution_count": null,
   "metadata": {},
   "outputs": [],
   "source": [
    "my_tuple = (10, 20, 30, 40)\n",
    "print(my_tuple.index(30))"
   ]
  },
  {
   "cell_type": "code",
   "execution_count": null,
   "metadata": {},
   "outputs": [],
   "source": [
    "# ошибка \n",
    "my_tuple = (10, 20, 30, 40)\n",
    "print(my_tuple.index(50))"
   ]
  },
  {
   "cell_type": "markdown",
   "metadata": {},
   "source": [
    "<div class=\"alert alert-block alert-warning\">\n",
    "<b> Вложенные кортежи!</b>\n",
    "\n",
    "Кортежи могут содержать другие кортежи внутри себя, формируя вложенные структуры.\n",
    "\n",
    "</div>"
   ]
  },
  {
   "cell_type": "code",
   "execution_count": null,
   "metadata": {},
   "outputs": [],
   "source": [
    "nested_tuple = (1, (2, 3), (4, 5, 6))\n",
    "print(nested_tuple[1])\n",
    "print(nested_tuple[1][1])"
   ]
  },
  {
   "cell_type": "markdown",
   "metadata": {},
   "source": [
    "## Операции с кортежами"
   ]
  },
  {
   "cell_type": "markdown",
   "metadata": {},
   "source": [
    "1. **Конкатенация кортежей**\n",
    "\n",
    "**Конкатенация**: объединение двух кортежей. Можно объединять кортежи с помощью оператора `+`.\n",
    "\n"
   ]
  },
  {
   "cell_type": "code",
   "execution_count": null,
   "metadata": {},
   "outputs": [],
   "source": [
    "tuple1 = (1, 2, 3)\n",
    "tuple2 = (4, 5, 6)\n",
    "\n",
    "# Конкатенация\n",
    "new_tuple = tuple1 + tuple2\n",
    "print(new_tuple)"
   ]
  },
  {
   "cell_type": "markdown",
   "metadata": {},
   "source": [
    "2. **Умножение (повторение) кортежей**\n",
    "\n",
    "**Повторение**: создание нового кортежа путем повторения существующего.\n",
    "Можно умножать (повторять) кортежи с помощью оператора `*`."
   ]
  },
  {
   "cell_type": "code",
   "execution_count": null,
   "metadata": {},
   "outputs": [],
   "source": [
    "tuple1 = (1, 2, 3)\n",
    "tuple2 = (4, 5, 6)\n",
    "\n",
    "# Умножение\n",
    "repeated_tuple = tuple1 * 2\n",
    "print(repeated_tuple)"
   ]
  },
  {
   "cell_type": "markdown",
   "metadata": {},
   "source": [
    "3. **Проверка наличия элемента**\n",
    "\n",
    "С помощью операторов `in` и `not in` можно убедиться в наличии (отсутствии) определенного значения в кортеже"
   ]
  },
  {
   "cell_type": "code",
   "execution_count": null,
   "metadata": {},
   "outputs": [],
   "source": [
    "my_tuple = ('a', 'b', 'c', 'd')\n",
    "print('b' in my_tuple)\n",
    "print('z' in my_tuple)"
   ]
  },
  {
   "cell_type": "code",
   "execution_count": null,
   "metadata": {},
   "outputs": [],
   "source": [
    "nums = (1, 3, 5, 6, 7, 8)\n",
    "print(25 not in nums)"
   ]
  },
  {
   "cell_type": "markdown",
   "metadata": {},
   "source": [
    "## Встроенные функции для кортежей\n",
    "\n",
    "- `len(tuple)`: возвращает количество элементов в кортеже.\n",
    "- `min(tuple)`: возвращает минимальный элемент (для числовых данных).\n",
    "- `max(tuple)`: возвращает максимальный элемент (для числовых данных).\n",
    "- `sum(tuple)`: возвращает сумму элементов (для числовых данных).\n",
    "- `tuple(iterable)`: преобразует итерируемый объект в кортеж.\n",
    "- `sorted(tuple)` — возвращает отсортированный по возрастанию __список__ элементов кортежа. Если нужно отсортировать по убыванию, то нужно использовать параметр __reverse=True__. Если результат должен сохраняться в виде кортежа, нужно использовать __tuple()__."
   ]
  },
  {
   "cell_type": "code",
   "execution_count": null,
   "metadata": {},
   "outputs": [],
   "source": [
    "my_tuple = (3, 1, 4, 1, 5)\n",
    "print(len(my_tuple))\n",
    "print(min(my_tuple))\n",
    "print(max(my_tuple))\n",
    "print(sum(my_tuple))\n",
    "print(sorted(my_tuple))\n",
    "print(tuple(sorted(my_tuple)))"
   ]
  },
  {
   "cell_type": "code",
   "execution_count": null,
   "metadata": {},
   "outputs": [],
   "source": [
    "# кортеж отсортированный по убыванию\n",
    "nums = (4, 1, 7, 2, 0, 9, 5)\n",
    "print(tuple(sorted(nums, reverse=True)))"
   ]
  },
  {
   "cell_type": "markdown",
   "metadata": {},
   "source": [
    "## Распаковка кортежа\n",
    "\n",
    "Позволяет присваивать элементы кортежа отдельным переменным.\n"
   ]
  },
  {
   "cell_type": "code",
   "execution_count": null,
   "metadata": {},
   "outputs": [],
   "source": [
    "point = (10, 20)\n",
    "x, y = point\n",
    "print(x)\n",
    "print(y)"
   ]
  },
  {
   "cell_type": "markdown",
   "metadata": {},
   "source": [
    "## Преобразование кортежей в другие типы данных"
   ]
  },
  {
   "cell_type": "markdown",
   "metadata": {},
   "source": [
    "Кортеж __из строк__ можно преобразовать в строку"
   ]
  },
  {
   "cell_type": "code",
   "execution_count": null,
   "metadata": {},
   "outputs": [],
   "source": [
    "letters = ('P', 'y', 't', 'h', 'o', 'n')\n",
    "print('*'.join(letters))"
   ]
  },
  {
   "cell_type": "code",
   "execution_count": null,
   "metadata": {},
   "outputs": [],
   "source": [
    "# ошибка\n",
    "my_tuple = (3, 1, 4, 1, 5)\n",
    "print(\",\".join(my_tuple))"
   ]
  },
  {
   "cell_type": "markdown",
   "metadata": {},
   "source": [
    "Кортеж можно преобразовать в список"
   ]
  },
  {
   "cell_type": "code",
   "execution_count": null,
   "metadata": {},
   "outputs": [],
   "source": [
    "my_tuple = (2, 7, 5, 8, 1)\n",
    "print(list(my_tuple))"
   ]
  },
  {
   "cell_type": "markdown",
   "metadata": {},
   "source": [
    "Кортеж можно преобразовать во множество "
   ]
  },
  {
   "cell_type": "code",
   "execution_count": null,
   "metadata": {},
   "outputs": [],
   "source": [
    "numbers = (3, 2, 1, 6, 7, 2, 2, 9)\n",
    "print(set(numbers))"
   ]
  },
  {
   "cell_type": "markdown",
   "metadata": {},
   "source": [
    "В словарь (если кортеж вложенный и состоит из пар значений)"
   ]
  },
  {
   "cell_type": "code",
   "execution_count": null,
   "metadata": {},
   "outputs": [],
   "source": [
    "info = (('фрукты', 5), ('овощи', 15), ('конфеты', 3))\n",
    "print(dict(info))"
   ]
  },
  {
   "cell_type": "markdown",
   "metadata": {},
   "source": [
    "## Неизменяемость кортежей\n",
    "\n",
    "Кортежи нельзя изменять после создания. Попытка изменить элемент вызовет ошибку."
   ]
  },
  {
   "cell_type": "code",
   "execution_count": null,
   "metadata": {},
   "outputs": [],
   "source": [
    "fruits = ('яблоко', 'банан', 'вишня')\n",
    "fruits[0] = 'груша'  # Ошибка: TypeError"
   ]
  },
  {
   "cell_type": "markdown",
   "metadata": {},
   "source": [
    "## Преобразование кортежей\n",
    "\n",
    "Хотя кортежи неизменяемы, можно преобразовать их в списки, изменить, а затем обратно в кортежи."
   ]
  },
  {
   "cell_type": "code",
   "execution_count": null,
   "metadata": {},
   "outputs": [],
   "source": [
    "my_tuple = (1, 2, 3)\n",
    "# Преобразование в список\n",
    "my_list = list(my_tuple)\n",
    "my_list.append(4)\n",
    "# Преобразование обратно в кортеж\n",
    "my_tuple = tuple(my_list)\n",
    "print(my_tuple)"
   ]
  },
  {
   "cell_type": "code",
   "execution_count": null,
   "metadata": {},
   "outputs": [],
   "source": [
    "my_tuple = (1, 2, 3)\n",
    "new_tuple = my_tuple + (4,)\n",
    "print(new_tuple)"
   ]
  },
  {
   "cell_type": "markdown",
   "metadata": {},
   "source": [
    "## Сравнение кортежей\n",
    "\n",
    "Как и списки, кортежи с однородными данными можно сравнивать между собой с помощью операторов `>, >=, <, <=, ==, !=`.\n",
    "\n",
    "Если элементы кортежей принадлежат к разным типам данных, поддерживаются только операторы `==` и `!=`."
   ]
  },
  {
   "cell_type": "code",
   "execution_count": null,
   "metadata": {},
   "outputs": [],
   "source": [
    "tuple1 = (1, 2, 3)\n",
    "tuple2 = (4, 5, 6)\n",
    "print(tuple1 < tuple2)\n",
    "print(tuple1 != tuple2)"
   ]
  },
  {
   "cell_type": "markdown",
   "metadata": {},
   "source": [
    "## Примеры использования кортежей\n",
    "\n",
    "1. **Хранение координат точки**\n",
    "\n",
    "```python\n",
    "   point = (5, 10)\n",
    "```\n",
    "\n",
    "2. **Возвращение нескольких значений из функции**\n",
    "\n",
    "```python\n",
    "   def get_user_info():\n",
    "       return ('Иван', 'Иванов', 30)\n",
    "   \n",
    "   name, surname, age = get_user_info()\n",
    "```\n",
    "\n",
    "3. **Использование кортежа в качестве ключа в словаре**\n",
    "\n",
    "```python\n",
    "   locations = {\n",
    "       (40.7128, -74.0060): 'Нью-Йорк',\n",
    "       (34.0522, -118.2437): 'Лос-Анджелес'\n",
    "   }\n",
    "```\n"
   ]
  }
 ],
 "metadata": {
  "kernelspec": {
   "display_name": "courses",
   "language": "python",
   "name": "python3"
  },
  "language_info": {
   "codemirror_mode": {
    "name": "ipython",
    "version": 3
   },
   "file_extension": ".py",
   "mimetype": "text/x-python",
   "name": "python",
   "nbconvert_exporter": "python",
   "pygments_lexer": "ipython3",
   "version": "3.11.7"
  }
 },
 "nbformat": 4,
 "nbformat_minor": 2
}
