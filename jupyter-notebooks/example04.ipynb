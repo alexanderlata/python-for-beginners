{
 "cells": [
  {
   "cell_type": "markdown",
   "metadata": {},
   "source": [
    "# Методы работы с кортежами в Python"
   ]
  },
  {
   "cell_type": "markdown",
   "metadata": {},
   "source": [
    "## Что такое кортеж?\n",
    "\n",
    "<div class=\"alert alert-block alert-success\">\n",
    "\n",
    "Кортеж (`tuple`) — это неизменяемая последовательность элементов в Python. \n",
    "\n",
    "Это означает, что после создания кортежа его элементы __нельзя изменять, добавлять или удалять.__ \n",
    "\n",
    "Кортежи похожи на списки, но они неизменяемы и обычно используются для хранения наборов данных, которые не должны изменяться в процессе выполнения программы.\n",
    "\n",
    "</div>\n",
    "<div class=\"alert alert-block alert-warning\">\n",
    "\n",
    "Кортежи создаются с использованием круглых скобок `()` или функции `tuple()`.\n",
    "\n",
    "</div>\n",
    "\n",
    "__Пример создания кортежа__\n",
    "```python\n",
    "# Пустой кортеж\n",
    "empty_tuple = ()\n",
    "\n",
    "# Кортеж с элементами\n",
    "my_tuple = (1, 2, 3, \"Python\", True)\n",
    "\n",
    "# Кортеж с одним элементом (нужно добавить запятую)\n",
    "single_element = ('один',)\n",
    "```"
   ]
  },
  {
   "cell_type": "markdown",
   "metadata": {},
   "source": [
    "## Основные методы работы с кортежами"
   ]
  },
  {
   "cell_type": "markdown",
   "metadata": {},
   "source": [
    "1. **Создание кортежа**\n",
    "   Кортежи могут быть созданы как из отдельных элементов, так и с использованием функции `tuple()`."
   ]
  },
  {
   "cell_type": "code",
   "execution_count": null,
   "metadata": {},
   "outputs": [],
   "source": [
    "# Создание кортежа из списка\n",
    "list_example = [1, 2, 3]\n",
    "tuple_from_list = tuple(list_example)\n",
    "print(tuple_from_list)"
   ]
  },
  {
   "cell_type": "markdown",
   "metadata": {},
   "source": [
    "2. **Доступ к элементам**\n",
    "\n",
    "К элементам кортежа можно обращаться по индексу. __Индексация начинается с 0.__\n"
   ]
  },
  {
   "cell_type": "code",
   "execution_count": null,
   "metadata": {},
   "outputs": [],
   "source": [
    "my_tuple = (10, 20, 30, 40)\n",
    "print(my_tuple[0])\n",
    "print(my_tuple[2])"
   ]
  },
  {
   "cell_type": "markdown",
   "metadata": {},
   "source": [
    "3. **Срезы (slicing)**\n",
    "\n",
    "Как и списки, кортежи поддерживают срезы для доступа к подмножествам элементов."
   ]
  },
  {
   "cell_type": "code",
   "execution_count": null,
   "metadata": {},
   "outputs": [],
   "source": [
    "my_tuple = (10, 20, 30, 40, 50)\n",
    "print(my_tuple[1:4])\n",
    "print(my_tuple[:3])"
   ]
  },
  {
   "cell_type": "markdown",
   "metadata": {},
   "source": [
    "4. **Метод `count()`**\n",
    "\n",
    "Возвращает количество вхождений указанного элемента в кортеже."
   ]
  },
  {
   "cell_type": "code",
   "execution_count": null,
   "metadata": {},
   "outputs": [],
   "source": [
    "my_tuple = (1, 2, 2, 3, 4, 2)\n",
    "print(my_tuple.count(2))"
   ]
  },
  {
   "cell_type": "markdown",
   "metadata": {},
   "source": [
    "5. **Метод `index()`**\n",
    "\n",
    "Возвращает индекс первого вхождения указанного элемента в кортеже. Если элемент не найден, будет вызвано исключение `ValueError`."
   ]
  },
  {
   "cell_type": "code",
   "execution_count": null,
   "metadata": {},
   "outputs": [],
   "source": [
    "my_tuple = (10, 20, 30, 40)\n",
    "print(my_tuple.index(30))"
   ]
  },
  {
   "cell_type": "markdown",
   "metadata": {},
   "source": [
    "6. **Вложенные кортежи**\n",
    "\n",
    "Кортежи могут содержать другие кортежи внутри себя, формируя вложенные структуры."
   ]
  },
  {
   "cell_type": "code",
   "execution_count": null,
   "metadata": {},
   "outputs": [],
   "source": [
    "nested_tuple = (1, (2, 3), (4, 5, 6))\n",
    "print(nested_tuple[1])\n",
    "print(nested_tuple[1][1])"
   ]
  },
  {
   "cell_type": "markdown",
   "metadata": {},
   "source": [
    "## Операции с кортежами"
   ]
  },
  {
   "cell_type": "markdown",
   "metadata": {},
   "source": [
    "1. **Конкатенация кортежей**\n",
    "\n",
    "**Конкатенация**: объединение двух кортежей. Можно объединять кортежи с помощью оператора `+`.\n",
    "\n"
   ]
  },
  {
   "cell_type": "code",
   "execution_count": null,
   "metadata": {},
   "outputs": [],
   "source": [
    "tuple1 = (1, 2, 3)\n",
    "tuple2 = (4, 5, 6)\n",
    "\n",
    "# Конкатенация\n",
    "new_tuple = tuple1 + tuple2\n",
    "print(new_tuple)"
   ]
  },
  {
   "cell_type": "markdown",
   "metadata": {},
   "source": [
    "2. **Умножение (повторение) кортежей**\n",
    "\n",
    "**Повторение**: создание нового кортежа путем повторения существующего.\n",
    "Можно умножать (повторять) кортежи с помощью оператора `*`."
   ]
  },
  {
   "cell_type": "code",
   "execution_count": null,
   "metadata": {},
   "outputs": [],
   "source": [
    "tuple1 = (1, 2, 3)\n",
    "tuple2 = (4, 5, 6)\n",
    "\n",
    "# Умножение\n",
    "repeated_tuple = tuple1 * 2\n",
    "print(repeated_tuple)"
   ]
  },
  {
   "cell_type": "markdown",
   "metadata": {},
   "source": [
    "3. **Проверка наличия элемента**\n",
    "\n",
    "Можно проверить, содержит ли кортеж определённый элемент, с помощью оператора `in`.\n"
   ]
  },
  {
   "cell_type": "code",
   "execution_count": null,
   "metadata": {},
   "outputs": [],
   "source": [
    "my_tuple = ('a', 'b', 'c', 'd')\n",
    "print('b' in my_tuple)  # True\n",
    "print('z' in my_tuple)"
   ]
  },
  {
   "cell_type": "markdown",
   "metadata": {},
   "source": [
    "## Встроенные функции для кортежей\n",
    "\n",
    "- `len(tuple)`: возвращает количество элементов в кортеже.\n",
    "- `min(tuple)`: возвращает минимальный элемент (для числовых данных).\n",
    "- `max(tuple)`: возвращает максимальный элемент (для числовых данных).\n",
    "- `sum(tuple)`: возвращает сумму элементов (для числовых данных).\n",
    "- `tuple(iterable)`: преобразует итерируемый объект в кортеж.\n",
    "- `sorted(tuple)` — возвращает отсортированный список элементов кортежа."
   ]
  },
  {
   "cell_type": "code",
   "execution_count": null,
   "metadata": {},
   "outputs": [],
   "source": [
    "my_tuple = (3, 1, 4, 1, 5)\n",
    "print(len(my_tuple))\n",
    "print(min(my_tuple))\n",
    "print(max(my_tuple))\n",
    "print(sum(my_tuple))\n",
    "print(sorted(my_tuple))"
   ]
  },
  {
   "cell_type": "markdown",
   "metadata": {},
   "source": [
    "## Распаковка кортежа\n",
    "\n",
    "Позволяет присваивать элементы кортежа отдельным переменным.\n"
   ]
  },
  {
   "cell_type": "code",
   "execution_count": null,
   "metadata": {},
   "outputs": [],
   "source": [
    "point = (10, 20)\n",
    "x, y = point\n",
    "print(x)\n",
    "print(y)"
   ]
  },
  {
   "cell_type": "markdown",
   "metadata": {},
   "source": [
    "## Неизменяемость кортежей\n",
    "\n",
    "Кортежи нельзя изменять после создания. Попытка изменить элемент вызовет ошибку."
   ]
  },
  {
   "cell_type": "code",
   "execution_count": null,
   "metadata": {},
   "outputs": [],
   "source": [
    "fruits = ('яблоко', 'банан', 'вишня')\n",
    "fruits[0] = 'груша'  # Ошибка: TypeError"
   ]
  },
  {
   "cell_type": "markdown",
   "metadata": {},
   "source": [
    "## Преобразование кортежей\n",
    "\n",
    "Хотя кортежи неизменяемы, можно преобразовать их в списки, изменить, а затем обратно в кортежи."
   ]
  },
  {
   "cell_type": "code",
   "execution_count": null,
   "metadata": {},
   "outputs": [],
   "source": [
    "my_tuple = (1, 2, 3)\n",
    "# Преобразование в список\n",
    "my_list = list(my_tuple)\n",
    "my_list.append(4)\n",
    "# Преобразование обратно в кортеж\n",
    "my_tuple = tuple(my_list)\n",
    "print(my_tuple)"
   ]
  },
  {
   "cell_type": "markdown",
   "metadata": {},
   "source": [
    "## Примеры использования кортежей\n",
    "\n",
    "1. **Хранение координат точки**\n",
    "\n",
    "```python\n",
    "   point = (5, 10)\n",
    "```\n",
    "\n",
    "2. **Возвращение нескольких значений из функции**\n",
    "\n",
    "```python\n",
    "   def get_user_info():\n",
    "       return ('Иван', 'Иванов', 30)\n",
    "   \n",
    "   name, surname, age = get_user_info()\n",
    "```\n",
    "\n",
    "3. **Использование кортежа в качестве ключа в словаре**\n",
    "\n",
    "```python\n",
    "   locations = {\n",
    "       (40.7128, -74.0060): 'Нью-Йорк',\n",
    "       (34.0522, -118.2437): 'Лос-Анджелес'\n",
    "   }\n",
    "```\n"
   ]
  }
 ],
 "metadata": {
  "language_info": {
   "name": "python"
  }
 },
 "nbformat": 4,
 "nbformat_minor": 2
}
